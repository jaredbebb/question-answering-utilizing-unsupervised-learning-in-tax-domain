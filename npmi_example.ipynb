{
 "cells": [
  {
   "cell_type": "markdown",
   "metadata": {},
   "source": [
    "# Import Data"
   ]
  },
  {
   "cell_type": "code",
   "execution_count": 1,
   "metadata": {},
   "outputs": [
    {
     "name": "stderr",
     "output_type": "stream",
     "text": [
      "D:\\Anaconda3\\envs\\cdQA\\lib\\site-packages\\tqdm\\autonotebook\\__init__.py:18: TqdmExperimentalWarning: Using `tqdm.autonotebook.tqdm` in notebook mode. Use `tqdm.tqdm` instead to force console mode (e.g. in jupyter console)\n",
      "  \" (e.g. in jupyter console)\", TqdmExperimentalWarning)\n"
     ]
    },
    {
     "name": "stdout",
     "output_type": "stream",
     "text": [
      "'charmap' codec can't encode character '\\u0107' in position 22: character maps to <undefined>\n",
      "'charmap' codec can't encode character '\\u017b' in position 55: character maps to <undefined>\n",
      "'charmap' codec can't encode character '\\u0144' in position 92: character maps to <undefined>\n",
      "'charmap' codec can't encode character '\\u0142' in position 36: character maps to <undefined>\n",
      "'charmap' codec can't encode character '\\u0144' in position 47: character maps to <undefined>\n",
      "'charmap' codec can't encode character '\\u0144' in position 72: character maps to <undefined>\n",
      "'charmap' codec can't encode character '\\u0144' in position 25: character maps to <undefined>\n",
      "'charmap' codec can't encode character '\\u0141' in position 53: character maps to <undefined>\n",
      "'charmap' codec can't encode character '\\u0144' in position 10: character maps to <undefined>\n",
      "'charmap' codec can't encode character '\\u0144' in position 46: character maps to <undefined>\n",
      "'charmap' codec can't encode character '\\u0144' in position 23: character maps to <undefined>\n",
      "'charmap' codec can't encode character '\\u012b' in position 20: character maps to <undefined>\n",
      "'charmap' codec can't encode character '\\u0101' in position 19: character maps to <undefined>\n",
      "'charmap' codec can't encode character '\\u2764' in position 27: character maps to <undefined>\n",
      "'charmap' codec can't encode character '\\u2764' in position 11: character maps to <undefined>\n",
      "'charmap' codec can't encode character '\\u2764' in position 28: character maps to <undefined>\n",
      "'charmap' codec can't encode character '\\u0101' in position 7: character maps to <undefined>\n",
      "'charmap' codec can't encode character '\\u0101' in position 40: character maps to <undefined>\n",
      "'charmap' codec can't encode character '\\u0101' in position 41: character maps to <undefined>\n",
      "'charmap' codec can't encode character '\\u0101' in position 32: character maps to <undefined>\n",
      "'charmap' codec can't encode character '\\u0101' in position 15: character maps to <undefined>\n",
      "'charmap' codec can't encode character '\\u0101' in position 14: character maps to <undefined>\n",
      "'charmap' codec can't encode character '\\u0101' in position 19: character maps to <undefined>\n",
      "'charmap' codec can't encode character '\\u0101' in position 26: character maps to <undefined>\n",
      "'charmap' codec can't encode character '\\u015a' in position 9: character maps to <undefined>\n",
      "'charmap' codec can't encode character '\\u015a' in position 17: character maps to <undefined>\n",
      "'charmap' codec can't encode character '\\u0100' in position 25: character maps to <undefined>\n",
      "'charmap' codec can't encode character '\\u012b' in position 39: character maps to <undefined>\n",
      "'charmap' codec can't encode character '\\u012b' in position 58: character maps to <undefined>\n",
      "'charmap' codec can't encode character '\\u0101' in position 34: character maps to <undefined>\n",
      "'charmap' codec can't encode character '\\u0101' in position 21: character maps to <undefined>\n",
      "'charmap' codec can't encode character '\\u0110' in position 16: character maps to <undefined>\n",
      "'charmap' codec can't encode character '\\u1ec5' in position 51: character maps to <undefined>\n",
      "'charmap' codec can't encode character '\\u1ebf' in position 50: character maps to <undefined>\n",
      "'charmap' codec can't encode character '\\u0107' in position 26: character maps to <undefined>\n",
      "'charmap' codec can't encode character '\\u0107' in position 42: character maps to <undefined>\n",
      "'charmap' codec can't encode character '\\u015b' in position 17: character maps to <undefined>\n",
      "'charmap' codec can't encode character '\\u015b' in position 23: character maps to <undefined>\n",
      "'charmap' codec can't encode characters in position 26-35: character maps to <undefined>\n",
      "'charmap' codec can't encode characters in position 10-16: character maps to <undefined>\n",
      "'charmap' codec can't encode characters in position 13-15: character maps to <undefined>\n",
      "'charmap' codec can't encode character '\\u1e62' in position 0: character maps to <undefined>\n",
      "'charmap' codec can't encode character '\\u1e62' in position 10: character maps to <undefined>\n",
      "'charmap' codec can't encode characters in position 10-12: character maps to <undefined>\n",
      "'charmap' codec can't encode character '\\u012b' in position 40: character maps to <undefined>\n",
      "'charmap' codec can't encode character '\\u02b0' in position 1: character maps to <undefined>\n",
      "'charmap' codec can't encode character '\\u02b0' in position 24: character maps to <undefined>\n",
      "'charmap' codec can't encode character '\\u02b0' in position 53: character maps to <undefined>\n",
      "'charmap' codec can't encode character '\\u02b0' in position 39: character maps to <undefined>\n",
      "'charmap' codec can't encode character '\\u02ed' in position 2: character maps to <undefined>\n",
      "'charmap' codec can't encode character '\\u27e8' in position 17: character maps to <undefined>\n",
      "'charmap' codec can't encode character '\\u02b0' in position 19: character maps to <undefined>\n",
      "'charmap' codec can't encode character '\\u02b0' in position 14: character maps to <undefined>\n",
      "'charmap' codec can't encode character '\\u03b8' in position 33: character maps to <undefined>\n",
      "'charmap' codec can't encode character '\\u27e8' in position 4: character maps to <undefined>\n",
      "'charmap' codec can't encode characters in position 57-60: character maps to <undefined>\n",
      "'charmap' codec can't encode characters in position 14-17: character maps to <undefined>\n",
      "'charmap' codec can't encode character '\\u2212' in position 46: character maps to <undefined>\n",
      "'charmap' codec can't encode character '\\u011b' in position 11: character maps to <undefined>\n",
      "'charmap' codec can't encode character '\\u011b' in position 29: character maps to <undefined>\n",
      "'charmap' codec can't encode character '\\u011b' in position 14: character maps to <undefined>\n",
      "'charmap' codec can't encode characters in position 32-36: character maps to <undefined>\n",
      "'charmap' codec can't encode character '\\u0113' in position 34: character maps to <undefined>\n",
      "'charmap' codec can't encode character '\\u0113' in position 11: character maps to <undefined>\n",
      "'charmap' codec can't encode character '\\u011b' in position 5: character maps to <undefined>\n",
      "'charmap' codec can't encode character '\\u011b' in position 20: character maps to <undefined>\n",
      "'charmap' codec can't encode characters in position 18-21: character maps to <undefined>\n",
      "'charmap' codec can't encode character '\\u1e31' in position 63: character maps to <undefined>\n",
      "'charmap' codec can't encode characters in position 20-26: character maps to <undefined>\n",
      "'charmap' codec can't encode character '\\u0119' in position 10: character maps to <undefined>\n",
      "'charmap' codec can't encode character '\\u0119' in position 9: character maps to <undefined>\n",
      "'charmap' codec can't encode character '\\u017a' in position 18: character maps to <undefined>\n",
      "'charmap' codec can't encode character '\\u2192' in position 39: character maps to <undefined>\n",
      "'charmap' codec can't encode character '\\u2192' in position 58: character maps to <undefined>\n",
      "'charmap' codec can't encode character '\\u266f' in position 38: character maps to <undefined>\n",
      "'charmap' codec can't encode character '\\u01bf' in position 33: character maps to <undefined>\n",
      "'charmap' codec can't encode character '\\u2212' in position 55: character maps to <undefined>\n",
      "'charmap' codec can't encode characters in position 48-50: character maps to <undefined>\n",
      "'charmap' codec can't encode character '\\u03b2' in position 30: character maps to <undefined>\n",
      "'charmap' codec can't encode character '\\u016b' in position 12: character maps to <undefined>\n",
      "'charmap' codec can't encode character '\\u221a' in position 32: character maps to <undefined>\n",
      "'charmap' codec can't encode character '\\u0142' in position 18: character maps to <undefined>\n",
      "'charmap' codec can't encode character '\\u014d' in position 50: character maps to <undefined>\n",
      "'charmap' codec can't encode character '\\u0142' in position 1: character maps to <undefined>\n",
      "'charmap' codec can't encode character '\\u0142' in position 36: character maps to <undefined>\n",
      "'charmap' codec can't encode character '\\u0130' in position 9: character maps to <undefined>\n",
      "'charmap' codec can't encode character '\\u0131' in position 30: character maps to <undefined>\n"
     ]
    },
    {
     "name": "stdout",
     "output_type": "stream",
     "text": [
      "'charmap' codec can't encode character '\\u0131' in position 25: character maps to <undefined>\n",
      "'charmap' codec can't encode character '\\u0101' in position 38: character maps to <undefined>\n",
      "'charmap' codec can't encode character '\\u0101' in position 27: character maps to <undefined>\n",
      "'charmap' codec can't encode characters in position 10-14: character maps to <undefined>\n",
      "'charmap' codec can't encode characters in position 17-21: character maps to <undefined>\n",
      "'charmap' codec can't encode character '\\u0101' in position 12: character maps to <undefined>\n",
      "'charmap' codec can't encode character '\\u0101' in position 61: character maps to <undefined>\n",
      "'charmap' codec can't encode character '\\u1e25' in position 17: character maps to <undefined>\n",
      "'charmap' codec can't encode character '\\u1e25' in position 15: character maps to <undefined>\n",
      "'charmap' codec can't encode character '\\u026a' in position 20: character maps to <undefined>\n",
      "'charmap' codec can't encode characters in position 24-26: character maps to <undefined>\n",
      "'charmap' codec can't encode characters in position 25-27: character maps to <undefined>\n",
      "'charmap' codec can't encode characters in position 24-26: character maps to <undefined>\n",
      "'charmap' codec can't encode characters in position 24-26: character maps to <undefined>\n",
      "'charmap' codec can't encode characters in position 24-26: character maps to <undefined>\n",
      "'charmap' codec can't encode character '\\u02b2' in position 13: character maps to <undefined>\n",
      "'charmap' codec can't encode characters in position 10-14: character maps to <undefined>\n",
      "'charmap' codec can't encode characters in position 9-17: character maps to <undefined>\n"
     ]
    }
   ],
   "source": [
    "from write_npmi_training_data import read_squad_examples_jb\n",
    "X='./data/SQuAD_1.1/train-v1.1.json'\n",
    "examples = read_squad_examples_jb(\n",
    "            input_file=X,\n",
    "            # is_training=self.is_training,\n",
    "            is_training=True,\n",
    "            # version_2_with_negative=self.version_2_with_negative,\n",
    "            version_2_with_negative=False\n",
    "        )\n",
    "\n",
    "npmi_training_data = \"squad_for_npmi.txt\"\n",
    "with open(npmi_training_data, \"w\") as f:\n",
    "    for example in examples:\n",
    "        try:\n",
    "            f.write(example.question_text+\"\\n\")\n",
    "        except UnicodeEncodeError as e:\n",
    "            print(e)\n"
   ]
  },
  {
   "cell_type": "markdown",
   "metadata": {},
   "source": [
    "# Convert Data to NPMI phrases"
   ]
  },
  {
   "cell_type": "code",
   "execution_count": 4,
   "metadata": {},
   "outputs": [],
   "source": [
    "import os\n",
    "from phraser_util import BuildPhraser"
   ]
  },
  {
   "cell_type": "code",
   "execution_count": 5,
   "metadata": {},
   "outputs": [
    {
     "data": {
      "text/plain": [
       "<gensim.models.phrases.Phraser at 0x285d7b69048>"
      ]
     },
     "execution_count": 5,
     "metadata": {},
     "output_type": "execute_result"
    }
   ],
   "source": [
    "model_file_path = os.getcwd() + \"/models/\" + \"bigram_model.pkl\"\n",
    "BuildPhraser(model_file_name=model_file_path,training_data=npmi_training_data)"
   ]
  },
  {
   "cell_type": "code",
   "execution_count": null,
   "metadata": {},
   "outputs": [],
   "source": [
    "from gensim.models.phrases import Phrases\n",
    "phrases = Phrases()\n",
    "model = phrases.load(fname=model_file_path)\n"
   ]
  },
  {
   "cell_type": "code",
   "execution_count": null,
   "metadata": {},
   "outputs": [
    {
     "name": "stdout",
     "output_type": "stream",
     "text": [
      "['To', 'whom', 'did', 'the', 'Virgin', 'Mary', 'allegedly', 'appear', 'in', '1858', 'in', 'Lourdes', 'France?']\n",
      "['What', 'is', 'in', 'front', 'of', 'the', 'Notre', 'Dame', 'Main', 'Building?']\n",
      "['The', 'Basilica', 'of', 'the', 'Sacred', 'heart', 'at', 'Notre', 'Dame', 'is', 'beside', 'to', 'which', 'structure?']\n",
      "['What', 'is', 'the', 'Grotto', 'at', 'Notre', 'Dame?']\n",
      "['What', 'sits', 'on', 'top', 'of', 'the', 'Main', 'Building', 'at', 'Notre', 'Dame?']\n",
      "['When', 'did', 'the', 'Scholastic', 'Magazine', 'of', 'Notre', 'dame', 'begin', 'publishing?']\n"
     ]
    }
   ],
   "source": [
    "def list_to_sentence(tokens):\n",
    "    str1 = \" \"\n",
    "    return str1.join(tokens)\n",
    "\n",
    "i = 0\n",
    "for example in examples:\n",
    "    q_text=example.question_text\n",
    "    print(q_text)\n",
    "    q_text_arr = q_text.split()\n",
    "    for sent in model[[q_text_arr]]:\n",
    "        print(list_to_sentence(sent))\n",
    "    i+=1\n",
    "    if i > 5:\n",
    "        break\n",
    "    \n",
    "    "
   ]
  },
  {
   "cell_type": "code",
   "execution_count": null,
   "metadata": {},
   "outputs": [],
   "source": []
  }
 ],
 "metadata": {
  "kernelspec": {
   "display_name": "Python 3",
   "language": "python",
   "name": "python3"
  },
  "language_info": {
   "codemirror_mode": {
    "name": "ipython",
    "version": 3
   },
   "file_extension": ".py",
   "mimetype": "text/x-python",
   "name": "python",
   "nbconvert_exporter": "python",
   "pygments_lexer": "ipython3",
   "version": "3.7.6"
  }
 },
 "nbformat": 4,
 "nbformat_minor": 1
}
